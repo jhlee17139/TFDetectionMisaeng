{
 "cells": [
  {
   "cell_type": "code",
   "execution_count": null,
   "metadata": {
    "collapsed": true,
    "pycharm": {
     "name": "#%%\n"
    }
   },
   "outputs": [],
   "source": [
    "from google.colab import drive\n",
    "drive.mount('/content/drive')\n",
    "\n",
    "!python -m pip install -U albumentations\n",
    "!python -m pip install opencv-python\n",
    "!python -m pip install tqdm\n",
    "!python -m pip install matplotlib\n",
    "\n",
    "%cd /content/drive/MyDrive/2022_2_machine_learning_hw2/tfdet_classification\n",
    "import sys\n",
    "sys.path.append('/content/drive/MyDrive/2022_2_machine_learning_hw2/tfdet_classification')\n",
    "print(sys.path)\n",
    "\n",
    "import tensorflow as tf\n",
    "print(tf.config.list_physical_devices('GPU'))"
   ]
  },
  {
   "cell_type": "code",
   "execution_count": null,
   "outputs": [],
   "source": [
    "from lovewar_helper import place_data\n",
    "from tfdet.model.classifier import place_classifier\n",
    "import tensorflow as tf\n",
    "import tfdet\n",
    "import albumentations\n",
    "import numpy as np\n",
    "from datetime import datetime\n",
    "import os"
   ],
   "metadata": {
    "collapsed": false,
    "pycharm": {
     "name": "#%%\n"
    }
   }
  },
  {
   "cell_type": "code",
   "execution_count": null,
   "outputs": [],
   "source": [
    "backbone_type = \"resnet50\"\n",
    "use_pretrained_backbone = False\n",
    "use_augmentation = False\n",
    "learning_rate = 5e-5\n",
    "momentum = 0.9\n",
    "epochs = 100\n",
    "img_size = (512, 512, 3)\n",
    "n_feature = 2048\n",
    "\n",
    "output_name = 'p1_no_pretrained'\n",
    "tr_img_root = \"/content/drive/MyDrive/2022_2_machine_learning_hw2/love_war_place/train\"\n",
    "te_img_root = \"/content/drive/MyDrive/2022_2_machine_learning_hw2/love_war_place/val\"\n",
    "\n",
    "class_dict = {\n",
    "    \"car\": 1,\n",
    "    \"front_of_buliding\": 2,\n",
    "    \"hospital\": 3,\n",
    "    \"house\": 4,\n",
    "    \"indoor\": 5,\n",
    "    \"restaurant\": 6,\n",
    "    \"rooftop\": 7,\n",
    "    \"street\": 8\n",
    "}"
   ],
   "metadata": {
    "collapsed": false,
    "pycharm": {
     "name": "#%%\n"
    }
   }
  },
  {
   "cell_type": "code",
   "execution_count": null,
   "outputs": [],
   "source": [
    "if __name__ == '__main__':\n",
    "    tr_img, tr_class = place_data.parse(tr_img_root, class_dict)\n",
    "    te_img, te_class = place_data.parse(te_img_root, class_dict)\n",
    "    tr_img = np.array(tr_img, dtype=np.float32) * 1 / 255\n",
    "    te_img = np.array(te_img, dtype=np.float32) * 1 / 255\n",
    "\n",
    "    x = tf.keras.layers.Input(shape=img_size)\n",
    "\n",
    "    if use_pretrained_backbone:\n",
    "        weights = \"imagenet\"\n",
    "\n",
    "    else:\n",
    "        weights = None\n",
    "\n",
    "    if backbone_type == \"resnet50\":\n",
    "        feature = tfdet.model.backbone.resnet50(x, weights=weights)[-1]\n",
    "\n",
    "    elif backbone_type == \"resent101\":\n",
    "        feature = tfdet.model.backbone.resnet101(x, weights=weights)[-1]\n",
    "\n",
    "    elif backbone_type == \"vgg16\":\n",
    "        feature = tfdet.model.backbone.vgg16(x, weights=weights)[-1]\n",
    "\n",
    "    elif backbone_type == \"mobilenet\":\n",
    "        feature = tfdet.model.backbone.mobilenet(x, weights=weights)[-1]\n",
    "\n",
    "    else:\n",
    "        # default : resnet50\n",
    "        feature = tfdet.model.backbone.resnet50(x, weights=weights)[-1]\n",
    "\n",
    "    out = place_classifier.Classifier(n_class=(len(class_dict) + 1), n_feature=n_feature)(feature)\n",
    "    model = tf.keras.Model(inputs=x, outputs=out)\n",
    "    model.summary()\n",
    "    batch_size = 16\n",
    "\n",
    "    if use_augmentation:\n",
    "        '''\n",
    "        1. albumentations\n",
    "        https://github.com/albumentations-team/albumentations(https://albumentations.ai/docs/getting_started/image_augmentation/)\n",
    "\n",
    "        2. albumentations docs\n",
    "        https://albumentations.ai/docs/api_reference/augmentations/\n",
    "\n",
    "        3. recommend\n",
    "        albumentations.RandomBrightness / albumentations.RandomContrast / albumentations.ChannelShuffle /\n",
    "        albumentations.RandomCrop / albumentations.HorizontalFlip / albumentations.Rotate /\n",
    "        etc\n",
    "        '''\n",
    "        method = [albumentations.RandomBrightness(0.2, p=0.5),\n",
    "                  albumentations.RandomContrast(0.2, p=0.5),\n",
    "                  albumentations.ChannelShuffle(p=0.5)]\n",
    "        method = albumentations.Compose(method)\n",
    "\n",
    "        def aug_func(image):\n",
    "            return method(image=image)[\"image\"]\n",
    "\n",
    "        def func(img, label):\n",
    "            shape = tf.shape(img)\n",
    "            img = tf.reshape(\n",
    "                tf.py_function(lambda *args: aug_func(args[0].numpy()), inp=[img], Tout=tf.float32),\n",
    "                shape)\n",
    "            return img, label\n",
    "        tr_data = place_data.pipe({\"img\": tr_img, \"label\": tr_class}, func=func, batch_size=batch_size, shuffle=True)\n",
    "\n",
    "    else:\n",
    "        tr_data = place_data.pipe({\"img\": tr_img, \"label\": tr_class}, batch_size=batch_size, shuffle=True)\n",
    "\n",
    "    te_data = place_data.pipe({\"img\": te_img, \"label\": te_class}, batch_size=batch_size, shuffle=False)\n",
    "\n",
    "    os.makedirs(\"logs/{}/\".format(output_name), exist_ok=True)\n",
    "    os.makedirs(\"weight/{}/\".format(output_name), exist_ok=True)\n",
    "\n",
    "    logdir = \"logs/{}/\".format(output_name)\n",
    "    tensorboard_callback = tf.keras.callbacks.TensorBoard(log_dir=logdir)\n",
    "    checkpoint = tf.keras.callbacks.ModelCheckpoint(\"weight/{}/best_place_model.h5\".format(output_name), monitor='val_accuracy', verbose=1,\n",
    "                                                    save_best_only=True, save_weights_only=True, mode='max', period=1)\n",
    "\n",
    "    opt = tf.keras.optimizers.SGD(learning_rate, momentum=momentum, nesterov=True)\n",
    "    model.compile(loss='categorical_crossentropy', optimizer=opt, metrics=['accuracy'])\n",
    "    model.fit(tr_data, validation_data=te_data, epochs=epochs, callbacks=[tensorboard_callback, checkpoint])\n",
    "    model.save_weights(\"weight/{}/place_model.h5\".format(output_name))"
   ],
   "metadata": {
    "collapsed": false,
    "pycharm": {
     "name": "#%%\n"
    }
   }
  }
 ],
 "metadata": {
  "kernelspec": {
   "display_name": "Python 3",
   "language": "python",
   "name": "python3"
  },
  "language_info": {
   "codemirror_mode": {
    "name": "ipython",
    "version": 2
   },
   "file_extension": ".py",
   "mimetype": "text/x-python",
   "name": "python",
   "nbconvert_exporter": "python",
   "pygments_lexer": "ipython2",
   "version": "2.7.6"
  }
 },
 "nbformat": 4,
 "nbformat_minor": 0
}