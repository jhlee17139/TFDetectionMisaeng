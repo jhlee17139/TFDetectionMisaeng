{
 "cells": [
  {
   "cell_type": "code",
   "execution_count": null,
   "metadata": {
    "collapsed": true,
    "pycharm": {
     "name": "#%%\n"
    }
   },
   "outputs": [],
   "source": [
    "from google.colab import drive\n",
    "drive.mount('/content/drive')\n",
    "\n",
    "!python -m pip install -U albumentations\n",
    "!python -m pip install opencv-python\n",
    "!python -m pip install tqdm\n",
    "!python -m pip install matplotlib\n",
    "\n",
    "%cd /content/drive/MyDrive/2022_2_machine_learning_hw2/tfdet_classification\n",
    "import sys\n",
    "sys.path.append('/content/drive/MyDrive/2022_2_machine_learning_hw2/tfdet_classification')\n",
    "print(sys.path)\n",
    "\n",
    "import tensorflow as tf\n",
    "print(tf.config.list_physical_devices('GPU'))"
   ]
  },
  {
   "cell_type": "code",
   "execution_count": null,
   "outputs": [],
   "source": [
    "from lovewar_helper import place_data\n",
    "from tfdet.model.classifier import place_classifier\n",
    "import tensorflow as tf\n",
    "import tfdet\n",
    "import albumentations\n",
    "from functools import partial\n",
    "import numpy as np\n",
    "from datetime import datetime\n",
    "import os"
   ],
   "metadata": {
    "collapsed": false,
    "pycharm": {
     "name": "#%%\n"
    }
   }
  },
  {
   "cell_type": "code",
   "execution_count": null,
   "outputs": [],
   "source": [
    "# backbone_list : resnet50, resnet101, mobilenet, vgg16\n",
    "backbone_type = \"resnet50\"\n",
    "use_pretrained_backbone = False\n",
    "learning_rate = 5e-5\n",
    "momentum = 0.9\n",
    "epochs = 100\n",
    "img_size = (512, 512, 3)\n",
    "img_wh = (512, 512)\n",
    "n_feature = 2048\n",
    "batch_size = 16\n",
    "\n",
    "output_name = 'p1_resnet50_pretrained_x'\n",
    "te_img_root = \"/content/drive/MyDrive/2022_2_machine_learning_hw2/love_war_place/val\"\n",
    "\n",
    "class_dict = {\n",
    "    \"car\": 0,\n",
    "    \"front_of_buliding\": 1,\n",
    "    \"hospital\": 2,\n",
    "    \"house\": 3,\n",
    "    \"indoor\": 4,\n",
    "    \"restaurant\": 5,\n",
    "    \"rooftop\": 6,\n",
    "    \"street\": 7\n",
    "}"
   ],
   "metadata": {
    "collapsed": false,
    "pycharm": {
     "name": "#%%\n"
    }
   }
  },
  {
   "cell_type": "code",
   "execution_count": null,
   "outputs": [],
   "source": [
    "def preprocess_val_data(val_ds, image_size, label_cnt, batch_size):\n",
    "    transforms = albumentations.Compose([\n",
    "        albumentations.Normalize(),\n",
    "        albumentations.Resize(image_size[0], image_size[1]),\n",
    "    ])\n",
    "\n",
    "    def aug_fn(image):\n",
    "        data = {\"image\": image}\n",
    "        aug_data = transforms(**data)\n",
    "        aug_img = aug_data[\"image\"]\n",
    "        aug_img = tf.cast(aug_img, tf.float32)\n",
    "        return aug_img\n",
    "\n",
    "    def process_data(image, label):\n",
    "        aug_img = tf.numpy_function(func=aug_fn, inp=[image], Tout=tf.float32)\n",
    "        return aug_img, label\n",
    "\n",
    "    def set_shapes(img, label, img_shape=image_size, label_count=label_cnt):\n",
    "        img.set_shape(img_shape)\n",
    "        label.set_shape(label_count)\n",
    "        return img, label\n",
    "\n",
    "    ds_alb = val_ds.map(partial(process_data), num_parallel_calls=tf.data.experimental.AUTOTUNE).prefetch(tf.data.experimental.AUTOTUNE)\n",
    "    ds_alb = ds_alb.map(set_shapes, num_parallel_calls=tf.data.experimental.AUTOTUNE).batch(batch_size)\n",
    "    return ds_alb"
   ],
   "metadata": {
    "collapsed": false,
    "pycharm": {
     "name": "#%%\n"
    }
   }
  },
  {
   "cell_type": "code",
   "execution_count": null,
   "outputs": [],
   "source": [
    "if __name__ == '__main__':\n",
    "    te_img, te_class = place_data.parse_test(te_img_root, class_dict)\n",
    "\n",
    "    if use_pretrained_backbone:\n",
    "        weights = \"imagenet\"\n",
    "\n",
    "    else:\n",
    "        weights = None\n",
    "\n",
    "    x = tf.keras.layers.Input(shape=img_size)\n",
    "\n",
    "    if backbone_type == \"resnet50\":\n",
    "        feature = tfdet.model.backbone.resnet50(x, weights=weights)[-1]\n",
    "\n",
    "    elif backbone_type == \"resent101\":\n",
    "        feature = tfdet.model.backbone.resnet101(x, weights=weights)[-1]\n",
    "\n",
    "    elif backbone_type == \"vgg16\":\n",
    "        feature = tfdet.model.backbone.vgg16(x, weights=weights)[-1]\n",
    "\n",
    "    elif backbone_type == \"mobilenet\":\n",
    "        feature = tfdet.model.backbone.mobilenet(x, weights=weights)[-1]\n",
    "\n",
    "    else:\n",
    "        # default : resnet50\n",
    "        feature = tfdet.model.backbone.resnet50(x, weights=weights)[-1]\n",
    "\n",
    "    out = place_classifier.Classifier(n_class=len(class_dict), n_feature=n_feature)(feature)\n",
    "    model = tf.keras.Model(inputs=x, outputs=out)\n",
    "    model.summary()\n",
    "\n",
    "    model.load_weights(\"weight/{}/best_place_model.h5\".format(output_name))\n",
    "    model.compile(loss='categorical_crossentropy', metrics=['accuracy'])\n",
    "    score = model.evaluate(te_img, te_class)"
   ],
   "metadata": {
    "collapsed": false,
    "pycharm": {
     "name": "#%%\n"
    }
   }
  }
 ],
 "metadata": {
  "kernelspec": {
   "display_name": "Python 3",
   "language": "python",
   "name": "python3"
  },
  "language_info": {
   "codemirror_mode": {
    "name": "ipython",
    "version": 2
   },
   "file_extension": ".py",
   "mimetype": "text/x-python",
   "name": "python",
   "nbconvert_exporter": "python",
   "pygments_lexer": "ipython2",
   "version": "2.7.6"
  }
 },
 "nbformat": 4,
 "nbformat_minor": 0
}